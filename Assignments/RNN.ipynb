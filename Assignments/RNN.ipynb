{
  "nbformat": 4,
  "nbformat_minor": 0,
  "metadata": {
    "colab": {
      "name": "RNN.ipynb",
      "provenance": []
    },
    "kernelspec": {
      "name": "python3",
      "display_name": "Python 3"
    }
  },
  "cells": [
    {
      "cell_type": "markdown",
      "metadata": {
        "id": "7s-S04qTu_fA",
        "colab_type": "text"
      },
      "source": [
        "Using a suitable program demonstrate the working of RNN in a classification task for temporal sequences."
      ]
    },
    {
      "cell_type": "markdown",
      "metadata": {
        "id": "yFmyc12Rl_lw",
        "colab_type": "text"
      },
      "source": [
        "Example Used: Sentiment Analysis\n",
        "\n",
        "DataSet"
      ]
    },
    {
      "cell_type": "code",
      "metadata": {
        "id": "oZwl_YG3jcIQ",
        "colab_type": "code",
        "colab": {}
      },
      "source": [
        "train_data = {\n",
        "  'good': True,\n",
        "  'bad': False,\n",
        "  'happy': True,\n",
        "  'sad': False,\n",
        "  'not good': False,\n",
        "  'not bad': True,\n",
        "  'not happy': False,\n",
        "  'not sad': True,\n",
        "  'very good': True,\n",
        "  'very bad': False,\n",
        "  'very happy': True,\n",
        "  'very sad': False,\n",
        "  'i am happy': True,\n",
        "  'this is good': True,\n",
        "  'i am bad': False,\n",
        "  'this is bad': False,\n",
        "  'i am sad': False,\n",
        "  'this is sad': False,\n",
        "  'i am not happy': False,\n",
        "  'this is not good': False,\n",
        "  'i am not bad': True,\n",
        "  'this is not sad': True,\n",
        "  'i am very happy': True,\n",
        "  'this is very good': True,\n",
        "  'i am very bad': False,\n",
        "  'this is very sad': False,\n",
        "  'this is very happy': True,\n",
        "  'i am good not bad': True,\n",
        "  'this is good not bad': True,\n",
        "  'i am bad not good': False,\n",
        "  'i am good and happy': True,\n",
        "  'this is not good and not happy': False,\n",
        "  'i am not at all good': False,\n",
        "  'i am not at all bad': True,\n",
        "  'i am not at all happy': False,\n",
        "  'this is not at all sad': True,\n",
        "  'this is not at all happy': False,\n",
        "  'i am good right now': True,\n",
        "  'i am bad right now': False,\n",
        "  'this is bad right now': False,\n",
        "  'i am sad right now': False,\n",
        "  'i was good earlier': True,\n",
        "  'i was happy earlier': True,\n",
        "  'i was bad earlier': False,\n",
        "  'i was sad earlier': False,\n",
        "  'i am very bad right now': False,\n",
        "  'this is very good right now': True,\n",
        "  'this is very sad right now': False,\n",
        "  'this was bad earlier': False,\n",
        "  'this was very good earlier': True,\n",
        "  'this was very bad earlier': False,\n",
        "  'this was very happy earlier': True,\n",
        "  'this was very sad earlier': False,\n",
        "  'i was good and not bad earlier': True,\n",
        "  'i was not good and not happy earlier': False,\n",
        "  'i am not at all bad or sad right now': True,\n",
        "  'i am not at all good or happy right now': False,\n",
        "  'this was not happy and not good earlier': False,\n",
        "}\n",
        "\n",
        "test_data = {\n",
        "  'this is happy': True,\n",
        "  'i am good': True,\n",
        "  'this is not happy': False,\n",
        "  'i am not good': False,\n",
        "  'this is not bad': True,\n",
        "  'i am not sad': True,\n",
        "  'i am very good': True,\n",
        "  'this is very bad': False,\n",
        "  'i am very sad': False,\n",
        "  'this is bad not good': False,\n",
        "  'this is good and happy': True,\n",
        "  'i am not good and not happy': False,\n",
        "  'i am not at all sad': True,\n",
        "  'this is not at all good': False,\n",
        "  'this is not at all bad': True,\n",
        "  'this is good right now': True,\n",
        "  'this is sad right now': False,\n",
        "  'this is very bad right now': False,\n",
        "  'this was good earlier': True,\n",
        "  'i was not happy and not good earlier': False,\n",
        "}"
      ],
      "execution_count": 0,
      "outputs": []
    },
    {
      "cell_type": "markdown",
      "metadata": {
        "id": "ZHSoPBO-kKav",
        "colab_type": "text"
      },
      "source": [
        "Pre-processing to construct a vocabulary of all words that exist in our data:"
      ]
    },
    {
      "cell_type": "code",
      "metadata": {
        "id": "2-vp5Pp6nGop",
        "colab_type": "code",
        "outputId": "16668f32-24e6-4c40-d426-84295e9f8f97",
        "colab": {
          "base_uri": "https://localhost:8080/",
          "height": 34
        }
      },
      "source": [
        "vocab = list(set([w for text in train_data.keys() for w in text.split(' ')]))\n",
        "vocab_size = len(vocab)\n",
        "print('%d unique words found' % vocab_size) # 18 unique words found"
      ],
      "execution_count": 0,
      "outputs": [
        {
          "output_type": "stream",
          "text": [
            "18 unique words found\n"
          ],
          "name": "stdout"
        }
      ]
    },
    {
      "cell_type": "code",
      "metadata": {
        "id": "BmIS8qGmnVlK",
        "colab_type": "code",
        "outputId": "7e9dbdfd-9171-4091-df2f-4a94925ef69c",
        "colab": {
          "base_uri": "https://localhost:8080/",
          "height": 52
        }
      },
      "source": [
        "# Assign indices to each word.\n",
        "# RNNs can’t understand words - we have to give them numbers.\n",
        "word_to_idx = { w: i for i, w in enumerate(vocab) }\n",
        "idx_to_word = { i: w for i, w in enumerate(vocab) }\n",
        "print(word_to_idx['good']) # 0 (this may change)\n",
        "print(idx_to_word[0]) # good (this may change)"
      ],
      "execution_count": 0,
      "outputs": [
        {
          "output_type": "stream",
          "text": [
            "0\n",
            "good\n"
          ],
          "name": "stdout"
        }
      ]
    },
    {
      "cell_type": "markdown",
      "metadata": {
        "id": "TTeCkdXFpNwa",
        "colab_type": "text"
      },
      "source": [
        "Each input $x_{i}$ to our RNN is a vector. We’ll use **one-hot vectors**, which contain all zeros except for a single one.\n",
        "\n",
        "Since we have 18 unique words in our vocabulary, each $x_{i}$ will be a 18-dimensional one-hot vector"
      ]
    },
    {
      "cell_type": "code",
      "metadata": {
        "id": "kvyU6XyrnlnC",
        "colab_type": "code",
        "colab": {}
      },
      "source": [
        "import numpy as np\n",
        "\n",
        "def createInputs(text):\n",
        "  '''\n",
        "  Returns an array of one-hot vectors representing the words\n",
        "  in the input text string.\n",
        "  - text is a string\n",
        "  - Each one-hot vector has shape (vocab_size, 1)\n",
        "  '''\n",
        "  inputs = []\n",
        "  for w in text.split(' '):\n",
        "    v = np.zeros((vocab_size, 1))\n",
        "    v[word_to_idx[w]] = 1\n",
        "    inputs.append(v)\n",
        "  return inputs"
      ],
      "execution_count": 0,
      "outputs": []
    },
    {
      "cell_type": "markdown",
      "metadata": {
        "id": "HzEBbcDJqNes",
        "colab_type": "text"
      },
      "source": [
        "**Forward Propagation**"
      ]
    },
    {
      "cell_type": "markdown",
      "metadata": {
        "id": "eRwJH8AEkMLE",
        "colab_type": "text"
      },
      "source": [
        "\n",
        "$h^{\\langle t \\rangle} = \\tanh(W_{hh} h^{\\langle t-1 \\rangle} + W_{xh} x^{\\langle t \\rangle} + b_h)$.\n",
        "\n",
        "$\\hat{y}^{\\langle t \\rangle} = softmax(W_{hy} h^{\\langle t \\rangle} + b_y)$.\n"
      ]
    },
    {
      "cell_type": "code",
      "metadata": {
        "id": "Et1o9DBvqb52",
        "colab_type": "code",
        "colab": {}
      },
      "source": [
        "import numpy as np\n",
        "from numpy.random import randn\n",
        "\n",
        "np.random.seed(1)\n",
        "##\n",
        "class RNN:\n",
        "  # A Vanilla Recurrent Neural Network.\n",
        "\n",
        "  def __init__(self, input_size, output_size, hidden_size=64):\n",
        "    # Weights\n",
        "    self.Whh = randn(hidden_size, hidden_size) / 1000\n",
        "    self.Wxh = randn(hidden_size, input_size) / 1000\n",
        "    self.Why = randn(output_size, hidden_size) / 1000\n",
        "\n",
        "    # Note: We're dividing by 1000 to reduce the initial variance of our weights.\n",
        "    # This is not the best way to initialize weights, but it's simple and works for this example.\n",
        "\n",
        "    # Biases\n",
        "    self.bh = np.zeros((hidden_size, 1))\n",
        "    self.by = np.zeros((output_size, 1))\n",
        "\n",
        "  def forward(self, inputs):\n",
        "    '''\n",
        "    Perform a forward pass of the RNN using the given inputs.\n",
        "    Returns the final output and hidden state.\n",
        "    - inputs is an array of one hot vectors with shape (input_size, 1).\n",
        "    '''\n",
        "    h = np.zeros((self.Whh.shape[0], 1))\n",
        "\n",
        "    self.last_inputs = inputs\n",
        "    self.last_hs = { 0: h }\n",
        "\n",
        "    # Perform each step of the RNN\n",
        "    for i, x in enumerate(inputs):\n",
        "      h = np.tanh(self.Wxh @ x + self.Whh @ h + self.bh)\n",
        "      self.last_hs[i + 1] = h\n",
        "\n",
        "    # Compute the output\n",
        "    y = self.Why @ h + self.by\n",
        "\n",
        "    return y, h \n",
        "  ##\n",
        "    "
      ],
      "execution_count": 0,
      "outputs": []
    },
    {
      "cell_type": "code",
      "metadata": {
        "id": "6IUqP3_ClQ4T",
        "colab_type": "code",
        "outputId": "8f4fb0de-5f25-4539-914f-9526178d9e86",
        "colab": {
          "base_uri": "https://localhost:8080/",
          "height": 52
        }
      },
      "source": [
        "def softmax(xs):\n",
        "  # Applies the Softmax Function to the input array.\n",
        "  return np.exp(xs) / sum(np.exp(xs))\n",
        "\n",
        "# Initialize our RNN!\n",
        "rnn = RNN(vocab_size, 2)\n",
        "\n",
        "\n",
        "inputs = createInputs('i am very good')\n",
        "out, h = rnn.forward(inputs)\n",
        "probs = softmax(out)\n",
        "print(probs) # [[0.50000095], [0.49999905]]"
      ],
      "execution_count": 0,
      "outputs": [
        {
          "output_type": "stream",
          "text": [
            "[[0.49999766]\n",
            " [0.50000234]]\n"
          ],
          "name": "stdout"
        }
      ]
    },
    {
      "cell_type": "markdown",
      "metadata": {
        "id": "9yvMf1dY1QPU",
        "colab_type": "text"
      },
      "source": [
        "**Back Propagation**\n",
        "\n",
        "We’ll use cross-entropy loss, which is often paired with Softmax. Here’s how we calculate it:\n",
        "\n",
        "L = $-ln ({p_c})$  \n",
        "\n",
        "where ${p_c}$ is our RNN’s predicted probability for the correct class (positive or negative).\n",
        "\n",
        "**Gradients**\n",
        "\n",
        "We’ll start by calculating $\\frac{\\partial L}{\\partial y}$. We know:\n",
        "\n",
        "$L = -\\ln(p_c) = -\\ln(\\text{softmax}(y_c))$\n",
        "\n",
        "Using Chain Rule:\n",
        "\n",
        "$\\frac{\\partial L}{\\partial y}=\\{ {p_i \\space\\space\\space\\space if \\space\\space i \\space != \\space c \\space\\space\\space\\space}, { \\space\\space\\space\\space p_i -1 \\space\\space\\space\\space if \\space\\space i \\space = \\space c}\\}$\n",
        "\n",
        "For example, if we have p = [0.2, 0.2, 0.6] and the correct class is c = 0, then we’d get $\\frac{\\partial L}{\\partial y}$ = [-0.8, 0.2, 0.6] \n",
        "\n",
        "$\\frac{\\partial L}{\\partial W_{hy}} = \\frac{\\partial L}{\\partial y} *  \\frac{\\partial y}{\\partial W_{hy}}$\n",
        "      \n",
        "${y = W_{hy} h_n + b_y}$\n",
        "\n",
        "​where $h_n$ is the final hidden state. Thus,\n",
        "\n",
        "$\\frac{\\partial y}{\\partial W_{hy}} = {h_n} $\n",
        "​\t\n",
        " $\\frac{\\partial L}{\\partial W_{hy}} = \\boxed{\\frac{\\partial L}{\\partial y} h_n}$\n",
        " \n",
        "Similarly,\n",
        "\n",
        "$\\frac{\\partial y}{\\partial b_y} = 1$\n",
        "\n",
        "$\\frac{\\partial L}{\\partial b_y} = \\boxed{\\frac{\\partial L}{\\partial y}}$\n",
        "\n",
        "Finally, we need the gradients for $W_{hh}, W_{xh},$ and $b_h$, which are used every step during the RNN. \n",
        "\n",
        "We have:\n",
        "\n",
        "$\\frac{\\partial L}{\\partial W_{xh}} = \\frac{\\partial L}{\\partial y} \\sum_t \\frac{\\partial y}{\\partial h_t} * \\frac{\\partial h_t}{\\partial W_{xh}}$\n",
        "\n",
        "​because changing $W_{xh}$ affects every $h_t$, which all affect y and ultimately L. In order to fully calculate the gradient of $W_{xh}$ , we’ll need to backpropagate through all timesteps, which is known as **Backpropagation Through Time (BPTT)**\n",
        "\n",
        "$W_{xh}$ is used for all $x_t$ → $h_t$ forward links, so we have to backpropagate back to each of those links.\n",
        "\n",
        "Once we arrive at a given step t, we need to calculate $\\frac{\\partial h_t}{\\partial W_{xh}}$ :\n",
        "\n",
        "$h_t = \\tanh (W_{xh} x_t + W_{hh} h_{t-1} + b_h)$\n",
        "\n",
        "The derivative of $\\tanh$ is well-known:\n",
        "\n",
        "$\\frac{d \\tanh(x)}{dx} = 1 - \\tanh^2(x)$\n",
        "\n",
        "We use Chain Rule like usual:\n",
        "\n",
        "$\\frac{\\partial h_t}{\\partial W_{xh}} = \\boxed{(1 - h_t^2) x_t}$\n",
        " \n",
        "Similarly, \n",
        "\n",
        "$\\frac{\\partial h_t}{\\partial W_{hh}} = \\boxed{(1 - h_t^2) h_{t-1}}$\n",
        "\n",
        "$\\frac{\\partial h_t}{\\partial b_h} = \\boxed{(1 - h_t^2)}$\n",
        "\n",
        " \n",
        "The last thing we need is $\\frac{\\partial y}{\\partial h_t} $. We can calculate this recursively:\n",
        "\n",
        "$\\begin{aligned} \\frac{\\partial y}{\\partial h_t} &= \\frac{\\partial y}{\\partial h_{t+1}} * \\frac{\\partial h_{t+1}}{\\partial h_t} \\\\ &= \\frac{\\partial y}{\\partial h_{t+1}} (1 - h_t^2) W_{hh} \\\\ \\end{aligned}$\n",
        "\n",
        "We’ll implement BPTT starting from the last hidden state and working backwards, so we’ll already have  $\\frac{\\partial y}{\\partial h_{t+1}}$ by the time we want to calculate $\\frac{\\partial y}{\\partial h_t}!$ The exception is the last hidden state, $h_n$:\n",
        "\n",
        "$\\frac{\\partial y}{\\partial h_n} = W_{hy}$\n",
        "\n",
        "We now have everything we need to finally implement BPTT and finish backprop():\n"
      ]
    },
    {
      "cell_type": "code",
      "metadata": {
        "id": "hVm9kYhnzraV",
        "colab_type": "code",
        "colab": {}
      },
      "source": [
        "class RNN:\n",
        "  # A Vanilla Recurrent Neural Network.\n",
        "\n",
        "  def __init__(self, input_size, output_size, hidden_size=64):\n",
        "    # Weights\n",
        "    self.Whh = randn(hidden_size, hidden_size) / 1000\n",
        "    self.Wxh = randn(hidden_size, input_size) / 1000\n",
        "    self.Why = randn(output_size, hidden_size) / 1000\n",
        "\n",
        "    # Note: We're dividing by 1000 to reduce the initial variance of our weights.\n",
        "    # This is not the best way to initialize weights, but it's simple and works for this example.\n",
        "\n",
        "    # Biases\n",
        "    self.bh = np.zeros((hidden_size, 1))\n",
        "    self.by = np.zeros((output_size, 1))\n",
        "\n",
        "  def forward(self, inputs):\n",
        "    '''\n",
        "    Perform a forward pass of the RNN using the given inputs.\n",
        "    Returns the final output and hidden state.\n",
        "    - inputs is an array of one hot vectors with shape (input_size, 1).\n",
        "    '''\n",
        "    h = np.zeros((self.Whh.shape[0], 1))\n",
        "\n",
        "    self.last_inputs = inputs\n",
        "    self.last_hs = { 0: h }\n",
        "\n",
        "    # Perform each step of the RNN\n",
        "    for i, x in enumerate(inputs):\n",
        "      h = np.tanh(self.Wxh @ x + self.Whh @ h + self.bh)\n",
        "      self.last_hs[i + 1] = h\n",
        "\n",
        "    # Compute the output\n",
        "    y = self.Why @ h + self.by\n",
        "\n",
        "    return y, h\n",
        "    \n",
        "\n",
        "  def backprop(self, d_y, learn_rate=2e-2):\n",
        "    '''\n",
        "    Perform a backward pass of the RNN.\n",
        "    - d_y (dL/dy) has shape (output_size, 1).\n",
        "    - learn_rate is a float.\n",
        "    '''\n",
        "    n = len(self.last_inputs)\n",
        "\n",
        "    # Calculate dL/dWhy and dL/dby.\n",
        "    d_Why = d_y @ self.last_hs[n].T\n",
        "    d_by = d_y\n",
        "\n",
        "    # Initialize dL/dWhh, dL/dWxh, and dL/dbh to zero.\n",
        "    d_Whh = np.zeros(self.Whh.shape)\n",
        "    d_Wxh = np.zeros(self.Wxh.shape)\n",
        "    d_bh = np.zeros(self.bh.shape)\n",
        "\n",
        "    # Calculate dL/dh for the last h.\n",
        "    d_h = self.Why.T @ d_y\n",
        "\n",
        "    # Backpropagate through time.\n",
        "    for t in reversed(range(n)):\n",
        "      # An intermediate value: dL/dh * (1 - h^2)\n",
        "      temp = ((1 - self.last_hs[t + 1] ** 2) * d_h)\n",
        "\n",
        "      # dL/db = dL/dh * (1 - h^2)\n",
        "      d_bh += temp\n",
        "\n",
        "      # dL/dWhh = dL/dh * (1 - h^2) * h_{t-1}\n",
        "      d_Whh += temp @ self.last_hs[t].T\n",
        "\n",
        "      # dL/dWxh = dL/dh * (1 - h^2) * x\n",
        "      d_Wxh += temp @ self.last_inputs[t].T\n",
        "\n",
        "      # Next dL/dh = dL/dh * (1 - h^2) * Whh\n",
        "      d_h = self.Whh @ temp\n",
        "\n",
        "    # Clip to prevent exploding gradients.\n",
        "    for d in [d_Wxh, d_Whh, d_Why, d_bh, d_by]:\n",
        "      np.clip(d, -1, 1, out=d)\n",
        "\n",
        "    # Update weights and biases using gradient descent.\n",
        "    self.Whh -= learn_rate * d_Whh\n",
        "    self.Wxh -= learn_rate * d_Wxh\n",
        "    self.Why -= learn_rate * d_Why\n",
        "    self.bh -= learn_rate * d_bh\n",
        "    self.by -= learn_rate * d_by"
      ],
      "execution_count": 0,
      "outputs": []
    },
    {
      "cell_type": "markdown",
      "metadata": {
        "id": "O53ukPePsPjT",
        "colab_type": "text"
      },
      "source": [
        "*   We’ve merged $\\frac{\\partial L}{\\partial y} * \\frac{\\partial y}{\\partial h}$ into $\\frac{\\partial L}{\\partial h}$ for convenience.\n",
        "*   We’re constantly updating $d_h$ variable that holds the most recent $\\frac{\\partial L}{\\partial h_{t+1}}$, which we need to calculate $\\frac{\\partial L}{\\partial h_t} $.\n",
        "\n",
        "\n",
        "\n"
      ]
    },
    {
      "cell_type": "markdown",
      "metadata": {
        "id": "qS8TFZGrs5zB",
        "colab_type": "text"
      },
      "source": [
        "let’s test our RNN!"
      ]
    },
    {
      "cell_type": "code",
      "metadata": {
        "id": "2Ka_3EENr7GH",
        "colab_type": "code",
        "colab": {}
      },
      "source": [
        "import random\n",
        "\n",
        "def processData(data, backprop=True):\n",
        "  '''\n",
        "  Returns the RNN's loss and accuracy for the given data.\n",
        "  - data is a dictionary mapping text to True or False.\n",
        "  - backprop determines if the backward phase should be run.\n",
        "  '''\n",
        "  items = list(data.items())\n",
        "  random.shuffle(items)\n",
        "\n",
        "  loss = 0\n",
        "  num_correct = 0\n",
        "\n",
        "  for x, y in items:\n",
        "    inputs = createInputs(x)\n",
        "    target = int(y)\n",
        "\n",
        "    # Forward\n",
        "    out, _ = rnn.forward(inputs)\n",
        "    probs = softmax(out)\n",
        "\n",
        "    # Calculate loss / accuracy\n",
        "    loss -= np.log(probs[target])\n",
        "    num_correct += int(np.argmax(probs) == target)\n",
        "\n",
        "    if backprop:\n",
        "      # Build dL/dy\n",
        "      d_L_d_y = probs\n",
        "      d_L_d_y[target] -= 1\n",
        "\n",
        "      # Backward\n",
        "      rnn.backprop(d_L_d_y)\n",
        "\n",
        "  return loss / len(data), num_correct / len(data)"
      ],
      "execution_count": 0,
      "outputs": []
    },
    {
      "cell_type": "code",
      "metadata": {
        "id": "0z-JDW-ztAqz",
        "colab_type": "code",
        "outputId": "d22bb92f-306e-4068-8f40-2d94a29f77b6",
        "colab": {
          "base_uri": "https://localhost:8080/",
          "height": 536
        }
      },
      "source": [
        "# Training loop\n",
        "for epoch in range(1000):\n",
        "  train_loss, train_acc = processData(train_data)\n",
        "\n",
        "  if epoch % 100 == 99:\n",
        "    print('--- Epoch %d' % (epoch + 1))\n",
        "    print('Train:\\tLoss %.3f | Accuracy: %.3f' % (train_loss, train_acc))\n",
        "\n",
        "    test_loss, test_acc = processData(test_data, backprop=False)\n",
        "    print('Test:\\tLoss %.3f | Accuracy: %.3f' % (test_loss, test_acc))"
      ],
      "execution_count": 0,
      "outputs": [
        {
          "output_type": "stream",
          "text": [
            "--- Epoch 100\n",
            "Train:\tLoss 0.688 | Accuracy: 0.569\n",
            "Test:\tLoss 0.699 | Accuracy: 0.500\n",
            "--- Epoch 200\n",
            "Train:\tLoss 0.672 | Accuracy: 0.638\n",
            "Test:\tLoss 0.717 | Accuracy: 0.550\n",
            "--- Epoch 300\n",
            "Train:\tLoss 0.540 | Accuracy: 0.724\n",
            "Test:\tLoss 0.867 | Accuracy: 0.500\n",
            "--- Epoch 400\n",
            "Train:\tLoss 0.429 | Accuracy: 0.776\n",
            "Test:\tLoss 0.770 | Accuracy: 0.550\n",
            "--- Epoch 500\n",
            "Train:\tLoss 0.334 | Accuracy: 0.879\n",
            "Test:\tLoss 0.938 | Accuracy: 0.550\n",
            "--- Epoch 600\n",
            "Train:\tLoss 0.097 | Accuracy: 0.948\n",
            "Test:\tLoss 0.256 | Accuracy: 0.850\n",
            "--- Epoch 700\n",
            "Train:\tLoss 0.012 | Accuracy: 1.000\n",
            "Test:\tLoss 0.037 | Accuracy: 1.000\n",
            "--- Epoch 800\n",
            "Train:\tLoss 0.005 | Accuracy: 1.000\n",
            "Test:\tLoss 0.013 | Accuracy: 1.000\n",
            "--- Epoch 900\n",
            "Train:\tLoss 0.003 | Accuracy: 1.000\n",
            "Test:\tLoss 0.008 | Accuracy: 1.000\n",
            "--- Epoch 1000\n",
            "Train:\tLoss 0.002 | Accuracy: 1.000\n",
            "Test:\tLoss 0.007 | Accuracy: 1.000\n"
          ],
          "name": "stdout"
        }
      ]
    },
    {
      "cell_type": "code",
      "metadata": {
        "id": "om-ooWzVtG9j",
        "colab_type": "code",
        "outputId": "f1f6240c-6411-4978-e29e-0048ad79d598",
        "colab": {
          "base_uri": "https://localhost:8080/",
          "height": 52
        }
      },
      "source": [
        "inputs = createInputs('i am very good')\n",
        "out, h = rnn.forward(inputs)\n",
        "probs = softmax(out)\n",
        "print(probs) "
      ],
      "execution_count": 0,
      "outputs": [
        {
          "output_type": "stream",
          "text": [
            "[[0.02143507]\n",
            " [0.97856493]]\n"
          ],
          "name": "stdout"
        }
      ]
    },
    {
      "cell_type": "code",
      "metadata": {
        "id": "ADNj4ck1wQ5S",
        "colab_type": "code",
        "colab": {}
      },
      "source": [
        ""
      ],
      "execution_count": 0,
      "outputs": []
    },
    {
      "cell_type": "code",
      "metadata": {
        "id": "0ZPrvWWmxq0N",
        "colab_type": "code",
        "colab": {}
      },
      "source": [
        ""
      ],
      "execution_count": 0,
      "outputs": []
    }
  ]
}